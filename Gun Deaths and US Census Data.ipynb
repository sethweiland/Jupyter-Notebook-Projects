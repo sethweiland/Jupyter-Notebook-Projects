{
 "cells": [
  {
   "cell_type": "code",
   "execution_count": 1,
   "metadata": {
    "collapsed": false
   },
   "outputs": [
    {
     "name": "stdout",
     "output_type": "stream",
     "text": [
      "['', 'year', 'month', 'intent', 'police', 'sex', 'age', 'race', 'hispanic', 'place', 'education']\n",
      "['1', '2012', '01', 'Suicide', '0', 'M', '34', 'Asian/Pacific Islander', '100', 'Home', '4']\n",
      "['2', '2012', '01', 'Suicide', '0', 'F', '21', 'White', '100', 'Street', '3']\n",
      "['3', '2012', '01', 'Suicide', '0', 'M', '60', 'White', '100', 'Other specified', '4']\n",
      "['4', '2012', '02', 'Suicide', '0', 'M', '64', 'White', '100', 'Home', '4']\n"
     ]
    }
   ],
   "source": [
    "import csv\n",
    "f = open('guns.csv')\n",
    "csvreader=csv.reader(f)\n",
    "data=list(csvreader)\n",
    "for row in data[:5]:\n",
    "    print (row)\n",
    "    "
   ]
  },
  {
   "cell_type": "code",
   "execution_count": 2,
   "metadata": {
    "collapsed": false
   },
   "outputs": [
    {
     "name": "stdout",
     "output_type": "stream",
     "text": [
      "['', 'year', 'month', 'intent', 'police', 'sex', 'age', 'race', 'hispanic', 'place', 'education']\n",
      "['1', '2012', '01', 'Suicide', '0', 'M', '34', 'Asian/Pacific Islander', '100', 'Home', '4']\n",
      "['2', '2012', '01', 'Suicide', '0', 'F', '21', 'White', '100', 'Street', '3']\n",
      "['3', '2012', '01', 'Suicide', '0', 'M', '60', 'White', '100', 'Other specified', '4']\n",
      "['4', '2012', '02', 'Suicide', '0', 'M', '64', 'White', '100', 'Home', '4']\n",
      "['5', '2012', '02', 'Suicide', '0', 'M', '31', 'White', '100', 'Other specified', '2']\n"
     ]
    }
   ],
   "source": [
    "headers=data[0]\n",
    "data=data[1:]\n",
    "print(headers)\n",
    "for row in data[:5]:\n",
    "    print(row)"
   ]
  },
  {
   "cell_type": "code",
   "execution_count": 3,
   "metadata": {
    "collapsed": false
   },
   "outputs": [
    {
     "name": "stdout",
     "output_type": "stream",
     "text": [
      "2012 33563\n",
      "2013 33636\n",
      "2014 33599\n"
     ]
    }
   ],
   "source": [
    "years=[row[1] for row in data]\n",
    "year_counts={}\n",
    "for year in years:\n",
    "    if year not in year_counts.keys():\n",
    "        year_counts[year]=1\n",
    "    else:\n",
    "        year_counts[year]+=1\n",
    "for key, value in year_counts.items():\n",
    "    print (key, value)"
   ]
  },
  {
   "cell_type": "code",
   "execution_count": 4,
   "metadata": {
    "collapsed": false
   },
   "outputs": [
    {
     "name": "stdout",
     "output_type": "stream",
     "text": [
      "2012-01-01 00:00:00\n",
      "2012-01-01 00:00:00\n",
      "2012-01-01 00:00:00\n",
      "2012-02-01 00:00:00\n",
      "2012-02-01 00:00:00\n"
     ]
    }
   ],
   "source": [
    "import datetime\n",
    "\n",
    "dates=[datetime.datetime(year=int(row[1]), month =int(row[2]), day=1) for row in data]\n",
    "for row in dates[:5]:\n",
    "    print(row)\n"
   ]
  },
  {
   "cell_type": "code",
   "execution_count": 5,
   "metadata": {
    "collapsed": false
   },
   "outputs": [
    {
     "name": "stdout",
     "output_type": "stream",
     "text": [
      "2013-10-01 00:00:00 2808\n",
      "2012-01-01 00:00:00 2758\n",
      "2014-09-01 00:00:00 2914\n",
      "2014-11-01 00:00:00 2756\n",
      "2012-03-01 00:00:00 2743\n",
      "2013-03-01 00:00:00 2862\n",
      "2013-11-01 00:00:00 2758\n",
      "2014-05-01 00:00:00 2864\n",
      "2014-06-01 00:00:00 2931\n",
      "2013-08-01 00:00:00 2859\n",
      "2012-08-01 00:00:00 2954\n",
      "2013-05-01 00:00:00 2806\n",
      "2014-02-01 00:00:00 2361\n",
      "2012-12-01 00:00:00 2791\n",
      "2012-07-01 00:00:00 3026\n",
      "2012-10-01 00:00:00 2733\n",
      "2014-03-01 00:00:00 2684\n",
      "2014-12-01 00:00:00 2857\n",
      "2014-04-01 00:00:00 2862\n",
      "2012-09-01 00:00:00 2852\n",
      "2013-02-01 00:00:00 2375\n",
      "2014-08-01 00:00:00 2970\n",
      "2012-05-01 00:00:00 2999\n",
      "2013-04-01 00:00:00 2798\n",
      "2012-06-01 00:00:00 2826\n",
      "2014-10-01 00:00:00 2865\n",
      "2014-07-01 00:00:00 2884\n",
      "2013-09-01 00:00:00 2742\n",
      "2013-06-01 00:00:00 2920\n",
      "2012-11-01 00:00:00 2729\n",
      "2013-12-01 00:00:00 2765\n",
      "2014-01-01 00:00:00 2651\n",
      "2012-02-01 00:00:00 2357\n",
      "2012-04-01 00:00:00 2795\n",
      "2013-01-01 00:00:00 2864\n",
      "2013-07-01 00:00:00 3079\n"
     ]
    }
   ],
   "source": [
    "#determine number of gundeaths based on months from 2012-2014\n",
    "date_counts={}\n",
    "\n",
    "for date in dates:\n",
    "    if date not in date_counts.keys():\n",
    "        date_counts[date]=1\n",
    "    else:\n",
    "        date_counts[date]+=1\n",
    "for key, value in date_counts.items():\n",
    "    print (key, value)"
   ]
  },
  {
   "cell_type": "code",
   "execution_count": 6,
   "metadata": {
    "collapsed": false
   },
   "outputs": [
    {
     "name": "stdout",
     "output_type": "stream",
     "text": [
      "F 14449\n",
      "M 86349\n",
      "Black 23296\n",
      "Native American/Native Alaskan 917\n",
      "Hispanic 9022\n",
      "White 66237\n",
      "Asian/Pacific Islander 1326\n"
     ]
    }
   ],
   "source": [
    "#determine gun death counts based on race and gender\n",
    "sex_counts={}\n",
    "for row in data:\n",
    "    if row[5] in sex_counts.keys():\n",
    "        sex_counts[row[5]]+=1\n",
    "    else: \n",
    "        sex_counts[row[5]]=1\n",
    "race_counts={}\n",
    "for row in data:\n",
    "    if row[7] in race_counts.keys():\n",
    "        race_counts[row[7]] +=1\n",
    "    else:\n",
    "        race_counts[row[7]]=1\n",
    "for key, value in sex_counts.items():\n",
    "    print(key, value)\n",
    "for key, value in race_counts.items():\n",
    "    print(key, value)"
   ]
  },
  {
   "cell_type": "code",
   "execution_count": 7,
   "metadata": {
    "collapsed": false
   },
   "outputs": [
    {
     "name": "stdout",
     "output_type": "stream",
     "text": [
      "['Id', 'Year', 'Id', 'Sex', 'Id', 'Hispanic Origin', 'Id', 'Id2', 'Geography', 'Total', 'Race Alone - White', 'Race Alone - Hispanic', 'Race Alone - Black or African American', 'Race Alone - American Indian and Alaska Native', 'Race Alone - Asian', 'Race Alone - Native Hawaiian and Other Pacific Islander', 'Two or More Races']\n",
      "['cen42010', 'April 1, 2010 Census', 'totsex', 'Both Sexes', 'tothisp', 'Total', '0100000US', '', 'United States', '308745538', '197318956', '44618105', '40250635', '3739506', '15159516', '674625', '6984195']\n"
     ]
    }
   ],
   "source": [
    "f=open('census.csv')\n",
    "csvreader=csv.reader(f)\n",
    "census=list(csvreader)\n",
    "for row in census:\n",
    "    print(row)"
   ]
  },
  {
   "cell_type": "code",
   "execution_count": 14,
   "metadata": {
    "collapsed": false
   },
   "outputs": [
    {
     "name": "stdout",
     "output_type": "stream",
     "text": [
      "Black 40250635\n",
      "Native American/Native Alaskan 3739506\n",
      "Hispanic 44618105\n",
      "White 197318956\n",
      "Asian/Pacific Islander 15834141\n"
     ]
    }
   ],
   "source": [
    "mapping = {}\n",
    "mapping['White']=int(census[1][10])\n",
    "mapping['Black']=int(census[1][12])\n",
    "mapping['Asian/Pacific Islander']=int(census[1][14])+int(census[1][15])\n",
    "mapping['Hispanic']=int(census[1][11])\n",
    "mapping['Native American/Native Alaskan']=int(census[1][13])\n",
    "\n",
    "for key, value in mapping.items():\n",
    "    print (key, value)\n",
    "\n",
    "    \n",
    "    "
   ]
  },
  {
   "cell_type": "code",
   "execution_count": 16,
   "metadata": {
    "collapsed": false
   },
   "outputs": [
    {
     "name": "stdout",
     "output_type": "stream",
     "text": [
      "Black 57.8773477735196\n",
      "Native American/Native Alaskan 24.521955573811088\n",
      "Hispanic 20.220491210910907\n",
      "White 33.56849303419181\n",
      "Asian/Pacific Islander 8.374309664161762\n"
     ]
    }
   ],
   "source": [
    "race_per_hundredk={}\n",
    "\n",
    "for key in race_counts.keys():\n",
    "    race_per_hundredk[key]=((race_counts[key])/(mapping[key]))*100000\n",
    "for key, value in race_per_hundredk.items():\n",
    "    print(key, value)"
   ]
  },
  {
   "cell_type": "code",
   "execution_count": null,
   "metadata": {
    "collapsed": true
   },
   "outputs": [],
   "source": []
  }
 ],
 "metadata": {
  "kernelspec": {
   "display_name": "Python 3",
   "language": "python",
   "name": "python3"
  },
  "language_info": {
   "codemirror_mode": {
    "name": "ipython",
    "version": 3
   },
   "file_extension": ".py",
   "mimetype": "text/x-python",
   "name": "python",
   "nbconvert_exporter": "python",
   "pygments_lexer": "ipython3",
   "version": "3.4.3"
  }
 },
 "nbformat": 4,
 "nbformat_minor": 0
}
